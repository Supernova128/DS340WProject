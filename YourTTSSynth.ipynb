{
 "cells": [
  {
   "cell_type": "code",
   "execution_count": 12,
   "id": "0c697ad2",
   "metadata": {
    "scrolled": true
   },
   "outputs": [],
   "source": [
    "import os\n",
    "import sys\n",
    "# pylint: disable=redefined-outer-name, unused-argument\n",
    "from pathlib import Path\n",
    "\n",
    "from TTS.utils.manage import ModelManager\n",
    "from TTS.utils.synthesizer import Synthesizer"
   ]
  },
  {
   "cell_type": "code",
   "execution_count": 42,
   "id": "321be8d5",
   "metadata": {},
   "outputs": [],
   "source": [
    "# Most of this code is modified from TTS/TTS/bin/synthesis.py\n",
    "\n",
    "\n",
    "\n",
    "# Set up Synth for tts model\n",
    "def setupttsmodel(modelpath='tts_models/multilingual/multi-dataset/your_tts'):\n",
    "    path = Path(TTS.tts.__file__).parent / \"../.models.json\"\n",
    "    model_path = None\n",
    "    config_path = None\n",
    "    speakers_file_path = None\n",
    "    language_ids_file_path = None\n",
    "    vocoder_path = None\n",
    "    vocoder_config_path = None\n",
    "    encoder_path = None\n",
    "    encoder_config_path = None\n",
    "    use_cuda = None\n",
    "    \n",
    "    # Load Model Manager\n",
    "    manager = ModelManager(path)\n",
    "    \n",
    "    # Download model \n",
    "\n",
    "    model_path, config_path, model_item = manager.download_model('tts_models/multilingual/multi-dataset/your_tts')\n",
    "\n",
    "    # Set Vocoder Name\n",
    "    vocoder_name = model_item[\"default_vocoder\"]\n",
    "    \n",
    "    return Synthesizer(\n",
    "        model_path,\n",
    "        config_path,\n",
    "        speakers_file_path,\n",
    "        language_ids_file_path,\n",
    "        vocoder_path,\n",
    "        vocoder_config_path,\n",
    "        encoder_path,\n",
    "        encoder_config_path,\n",
    "        use_cuda,\n",
    "    )\n",
    "\n",
    "\n",
    "\n"
   ]
  },
  {
   "cell_type": "code",
   "execution_count": 43,
   "id": "4533ef67",
   "metadata": {
    "scrolled": true
   },
   "outputs": [
    {
     "name": "stdout",
     "output_type": "stream",
     "text": [
      " > tts_models/multilingual/multi-dataset/your_tts is already downloaded.\n",
      " > Using model: vits\n",
      " > Setting up Audio Processor...\n",
      " | > sample_rate:16000\n",
      " | > resample:False\n",
      " | > num_mels:80\n",
      " | > log_func:np.log\n",
      " | > min_level_db:-100\n",
      " | > frame_shift_ms:None\n",
      " | > frame_length_ms:None\n",
      " | > ref_level_db:20\n",
      " | > fft_size:1024\n",
      " | > power:1.5\n",
      " | > preemphasis:0.0\n",
      " | > griffin_lim_iters:60\n",
      " | > signal_norm:False\n",
      " | > symmetric_norm:True\n",
      " | > mel_fmin:0\n",
      " | > mel_fmax:None\n",
      " | > pitch_fmin:0.0\n",
      " | > pitch_fmax:640.0\n",
      " | > spec_gain:1.0\n",
      " | > stft_pad_mode:reflect\n",
      " | > max_norm:4.0\n",
      " | > clip_norm:True\n",
      " | > do_trim_silence:True\n",
      " | > trim_db:45\n",
      " | > do_sound_norm:False\n",
      " | > do_amp_to_db_linear:False\n",
      " | > do_amp_to_db_mel:True\n",
      " | > do_rms_norm:False\n",
      " | > db_level:None\n",
      " | > stats_path:None\n",
      " | > base:2.718281828459045\n",
      " | > hop_length:256\n",
      " | > win_length:1024\n",
      " > Setting up Audio Processor...\n",
      " | > sample_rate:16000\n",
      " | > resample:False\n",
      " | > num_mels:64\n",
      " | > log_func:np.log10\n",
      " | > min_level_db:-100\n",
      " | > frame_shift_ms:None\n",
      " | > frame_length_ms:None\n",
      " | > ref_level_db:20\n",
      " | > fft_size:512\n",
      " | > power:1.5\n",
      " | > preemphasis:0.97\n",
      " | > griffin_lim_iters:60\n",
      " | > signal_norm:False\n",
      " | > symmetric_norm:False\n",
      " | > mel_fmin:0\n",
      " | > mel_fmax:8000.0\n",
      " | > pitch_fmin:0.0\n",
      " | > pitch_fmax:640.0\n",
      " | > spec_gain:20.0\n",
      " | > stft_pad_mode:reflect\n",
      " | > max_norm:4.0\n",
      " | > clip_norm:False\n",
      " | > do_trim_silence:False\n",
      " | > trim_db:60\n",
      " | > do_sound_norm:False\n",
      " | > do_amp_to_db_linear:True\n",
      " | > do_amp_to_db_mel:True\n",
      " | > do_rms_norm:True\n",
      " | > db_level:-27.0\n",
      " | > stats_path:None\n",
      " | > base:10\n",
      " | > hop_length:160\n",
      " | > win_length:400\n",
      " > External Speaker Encoder Loaded !!\n",
      " > initialization of language-embedding layers.\n",
      " > Using Griffin-Lim as no vocoder model defined\n"
     ]
    }
   ],
   "source": [
    "synth = setupttsmodel()"
   ]
  },
  {
   "cell_type": "code",
   "execution_count": 46,
   "id": "6baa8024",
   "metadata": {},
   "outputs": [
    {
     "name": "stdout",
     "output_type": "stream",
     "text": [
      " > Text splitted to sentences.\n",
      "['Testing out model']\n",
      " > Processing time: 0.2459716796875\n",
      " > Real-time factor: 0.14494500865497936\n"
     ]
    }
   ],
   "source": [
    "wav = synth.tts(\"Testing out model\",'female-en-5','en',None)"
   ]
  },
  {
   "cell_type": "code",
   "execution_count": 47,
   "id": "a8f1eff5",
   "metadata": {},
   "outputs": [],
   "source": [
    "synthesizer.save_wav(wav, 'output.wav')"
   ]
  },
  {
   "cell_type": "code",
   "execution_count": null,
   "id": "b69f3e77",
   "metadata": {},
   "outputs": [],
   "source": []
  },
  {
   "cell_type": "code",
   "execution_count": null,
   "id": "9ccb33ce",
   "metadata": {},
   "outputs": [],
   "source": []
  },
  {
   "cell_type": "code",
   "execution_count": 41,
   "id": "6c458d45",
   "metadata": {},
   "outputs": [
    {
     "data": {
      "text/plain": [
       "{'female-en-5': 0,\n",
       " 'female-en-5\\n': 1,\n",
       " 'female-pt-4\\n': 2,\n",
       " 'male-en-2': 3,\n",
       " 'male-en-2\\n': 4,\n",
       " 'male-pt-3\\n': 5}"
      ]
     },
     "execution_count": 41,
     "metadata": {},
     "output_type": "execute_result"
    }
   ],
   "source": [
    "# Function for Synthesis\n",
    "\n"
   ]
  },
  {
   "cell_type": "code",
   "execution_count": null,
   "id": "2c8e62ea",
   "metadata": {},
   "outputs": [],
   "source": []
  }
 ],
 "metadata": {
  "kernelspec": {
   "display_name": "DS340W",
   "language": "python",
   "name": "ds340w"
  },
  "language_info": {
   "codemirror_mode": {
    "name": "ipython",
    "version": 3
   },
   "file_extension": ".py",
   "mimetype": "text/x-python",
   "name": "python",
   "nbconvert_exporter": "python",
   "pygments_lexer": "ipython3",
   "version": "3.9.11"
  }
 },
 "nbformat": 4,
 "nbformat_minor": 5
}
