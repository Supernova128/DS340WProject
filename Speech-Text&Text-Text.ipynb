{
 "cells": [
  {
   "cell_type": "code",
   "execution_count": 64,
   "id": "c6aec5db",
   "metadata": {},
   "outputs": [
    {
     "name": "stdout",
     "output_type": "stream",
     "text": [
      "Requirement already satisfied: translators in c:\\anaconda3\\lib\\site-packages (5.0.2)\n",
      "Requirement already satisfied: PyExecJS>=1.5.1 in c:\\anaconda3\\lib\\site-packages (from translators) (1.5.1)\n",
      "Requirement already satisfied: loguru>=0.6.0 in c:\\anaconda3\\lib\\site-packages (from translators) (0.6.0)\n",
      "Requirement already satisfied: pathos>=0.2.8 in c:\\anaconda3\\lib\\site-packages (from translators) (0.2.8)\n",
      "Requirement already satisfied: lxml>=4.8.0 in c:\\anaconda3\\lib\\site-packages (from translators) (4.8.0)\n",
      "Requirement already satisfied: requests>=2.27.1 in c:\\anaconda3\\lib\\site-packages (from translators) (2.27.1)\n",
      "Requirement already satisfied: colorama>=0.3.4 in c:\\anaconda3\\lib\\site-packages (from loguru>=0.6.0->translators) (0.4.4)\n",
      "Requirement already satisfied: win32-setctime>=1.0.0 in c:\\anaconda3\\lib\\site-packages (from loguru>=0.6.0->translators) (1.1.0)\n",
      "Requirement already satisfied: ppft>=1.6.6.4 in c:\\anaconda3\\lib\\site-packages (from pathos>=0.2.8->translators) (1.6.6.4)\n",
      "Requirement already satisfied: pox>=0.3.0 in c:\\anaconda3\\lib\\site-packages (from pathos>=0.2.8->translators) (0.3.0)\n",
      "Requirement already satisfied: dill>=0.3.4 in c:\\anaconda3\\lib\\site-packages (from pathos>=0.2.8->translators) (0.3.4)\n",
      "Requirement already satisfied: multiprocess>=0.70.12 in c:\\anaconda3\\lib\\site-packages (from pathos>=0.2.8->translators) (0.70.12.2)\n",
      "Requirement already satisfied: six>=1.10.0 in c:\\anaconda3\\lib\\site-packages (from PyExecJS>=1.5.1->translators) (1.16.0)\n",
      "Requirement already satisfied: charset-normalizer~=2.0.0 in c:\\anaconda3\\lib\\site-packages (from requests>=2.27.1->translators) (2.0.4)\n",
      "Requirement already satisfied: certifi>=2017.4.17 in c:\\anaconda3\\lib\\site-packages (from requests>=2.27.1->translators) (2021.10.8)\n",
      "Requirement already satisfied: urllib3<1.27,>=1.21.1 in c:\\anaconda3\\lib\\site-packages (from requests>=2.27.1->translators) (1.26.7)\n",
      "Requirement already satisfied: idna<4,>=2.5 in c:\\anaconda3\\lib\\site-packages (from requests>=2.27.1->translators) (3.2)\n",
      "Note: you may need to restart the kernel to use updated packages.\n"
     ]
    }
   ],
   "source": [
    "pip install translators --upgrade"
   ]
  },
  {
   "cell_type": "code",
   "execution_count": null,
   "id": "98c62f49",
   "metadata": {},
   "outputs": [],
   "source": [
    "pip install transformers"
   ]
  },
  {
   "cell_type": "code",
   "execution_count": 65,
   "id": "a666be42",
   "metadata": {},
   "outputs": [
    {
     "name": "stdout",
     "output_type": "stream",
     "text": [
      "Requirement already satisfied: SpeechRecognition in c:\\anaconda3\\lib\\site-packages (3.8.1)\n",
      "Note: you may need to restart the kernel to use updated packages.\n"
     ]
    }
   ],
   "source": [
    "pip install SpeechRecognition"
   ]
  },
  {
   "cell_type": "code",
   "execution_count": 8,
   "id": "103461ea",
   "metadata": {},
   "outputs": [
    {
     "name": "stdout",
     "output_type": "stream",
     "text": [
      "Processing c:\\users\\yuchen li\\pyaudio-0.2.11-cp39-cp39-win_amd64.whl\n",
      "PyAudio is already installed with the same version as the provided wheel. Use --force-reinstall to force an installation of the wheel.\n",
      "Note: you may need to restart the kernel to use updated packages.\n"
     ]
    }
   ],
   "source": [
    "# if the version is not correct, here is the link for the downloading appropriate one: https://www.lfd.uci.edu/~gohlke/pythonlibs/\n",
    "pip install PyAudio-0.2.11-cp39-cp39-win_amd64.whl"
   ]
  },
  {
   "cell_type": "code",
   "execution_count": 30,
   "id": "7a4d7095",
   "metadata": {},
   "outputs": [
    {
     "name": "stdout",
     "output_type": "stream",
     "text": [
      "Say something!\n",
      "Are you trying to say change the file?\n"
     ]
    },
    {
     "data": {
      "text/plain": [
       "'更改文件'"
      ]
     },
     "execution_count": 30,
     "metadata": {},
     "output_type": "execute_result"
    }
   ],
   "source": [
    "import pyaudio\n",
    "import sys\n",
    "import speech_recognition as sr\n",
    "from transformers import AutoTokenizer, AutoModelForSeq2SeqLM # Machine Translation\n",
    "\n",
    "# set up souce-target language and the model\n",
    "src = \"en\" # source language\n",
    "trg = \"zh\" # target language\n",
    "\n",
    "model_name = f\"Helsinki-NLP/opus-mt-{src}-{trg}\"\n",
    "\n",
    "tokenizer = AutoTokenizer.from_pretrained(model_name)\n",
    "\n",
    "model = AutoModelForSeq2SeqLM.from_pretrained(model_name)\n",
    "\n",
    "r = sr.Recognizer()\n",
    "with sr.Microphone() as source:\n",
    "    print(\"Say something!\")\n",
    "    audio = r.listen(source)\n",
    "    output =r.recognize_google(audio)\n",
    "    \n",
    "print(f\"Are you trying to say: \\\"{output}\\\"?\")\n",
    "batch = tokenizer([output], return_tensors=\"pt\")\n",
    "generated_ids = model.generate(**batch)\n",
    "tokenizer.batch_decode(generated_ids, skip_special_tokens=True)[0]"
   ]
  }
 ],
 "metadata": {
  "kernelspec": {
   "display_name": "Python 3 (ipykernel)",
   "language": "python",
   "name": "python3"
  },
  "language_info": {
   "codemirror_mode": {
    "name": "ipython",
    "version": 3
   },
   "file_extension": ".py",
   "mimetype": "text/x-python",
   "name": "python",
   "nbconvert_exporter": "python",
   "pygments_lexer": "ipython3",
   "version": "3.9.7"
  }
 },
 "nbformat": 4,
 "nbformat_minor": 5
}
