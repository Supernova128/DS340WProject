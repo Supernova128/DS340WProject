{
 "cells": [
  {
   "cell_type": "code",
   "execution_count": 1,
   "id": "c6aec5db",
   "metadata": {},
   "outputs": [
    {
     "name": "stdout",
     "output_type": "stream",
     "text": [
      "Requirement already satisfied: translators in c:\\anaconda3\\lib\\site-packages (5.0.2)\n",
      "Requirement already satisfied: loguru>=0.6.0 in c:\\anaconda3\\lib\\site-packages (from translators) (0.6.0)\n",
      "Requirement already satisfied: lxml>=4.8.0 in c:\\anaconda3\\lib\\site-packages (from translators) (4.8.0)\n",
      "Requirement already satisfied: PyExecJS>=1.5.1 in c:\\anaconda3\\lib\\site-packages (from translators) (1.5.1)\n",
      "Requirement already satisfied: requests>=2.27.1 in c:\\anaconda3\\lib\\site-packages (from translators) (2.27.1)\n",
      "Requirement already satisfied: pathos>=0.2.8 in c:\\anaconda3\\lib\\site-packages (from translators) (0.2.8)\n",
      "Requirement already satisfied: win32-setctime>=1.0.0 in c:\\anaconda3\\lib\\site-packages (from loguru>=0.6.0->translators) (1.1.0)\n",
      "Requirement already satisfied: colorama>=0.3.4 in c:\\anaconda3\\lib\\site-packages (from loguru>=0.6.0->translators) (0.4.4)\n",
      "Requirement already satisfied: dill>=0.3.4 in c:\\anaconda3\\lib\\site-packages (from pathos>=0.2.8->translators) (0.3.4)\n",
      "Requirement already satisfied: pox>=0.3.0 in c:\\anaconda3\\lib\\site-packages (from pathos>=0.2.8->translators) (0.3.0)\n",
      "Requirement already satisfied: multiprocess>=0.70.12 in c:\\anaconda3\\lib\\site-packages (from pathos>=0.2.8->translators) (0.70.12.2)\n",
      "Requirement already satisfied: ppft>=1.6.6.4 in c:\\anaconda3\\lib\\site-packages (from pathos>=0.2.8->translators) (1.6.6.4)\n",
      "Requirement already satisfied: six>=1.10.0 in c:\\anaconda3\\lib\\site-packages (from PyExecJS>=1.5.1->translators) (1.16.0)\n",
      "Requirement already satisfied: charset-normalizer~=2.0.0 in c:\\anaconda3\\lib\\site-packages (from requests>=2.27.1->translators) (2.0.4)\n",
      "Requirement already satisfied: certifi>=2017.4.17 in c:\\anaconda3\\lib\\site-packages (from requests>=2.27.1->translators) (2021.10.8)\n",
      "Requirement already satisfied: idna<4,>=2.5 in c:\\anaconda3\\lib\\site-packages (from requests>=2.27.1->translators) (3.2)\n",
      "Requirement already satisfied: urllib3<1.27,>=1.21.1 in c:\\anaconda3\\lib\\site-packages (from requests>=2.27.1->translators) (1.26.7)\n",
      "Note: you may need to restart the kernel to use updated packages.\n"
     ]
    }
   ],
   "source": [
    "pip install translators --upgrade"
   ]
  },
  {
   "cell_type": "code",
   "execution_count": 4,
   "id": "98c62f49",
   "metadata": {},
   "outputs": [
    {
     "name": "stdout",
     "output_type": "stream",
     "text": [
      "Requirement already satisfied: transformers in c:\\anaconda3\\lib\\site-packages (4.18.0)\n",
      "Requirement already satisfied: filelock in c:\\anaconda3\\lib\\site-packages (from transformers) (3.3.1)\n",
      "Requirement already satisfied: huggingface-hub<1.0,>=0.1.0 in c:\\anaconda3\\lib\\site-packages (from transformers) (0.5.1)\n",
      "Requirement already satisfied: pyyaml>=5.1 in c:\\anaconda3\\lib\\site-packages (from transformers) (6.0)\n",
      "Requirement already satisfied: regex!=2019.12.17 in c:\\anaconda3\\lib\\site-packages (from transformers) (2021.8.3)\n",
      "Requirement already satisfied: numpy>=1.17 in c:\\anaconda3\\lib\\site-packages (from transformers) (1.19.5)\n",
      "Requirement already satisfied: sacremoses in c:\\anaconda3\\lib\\site-packages (from transformers) (0.0.49)\n",
      "Requirement already satisfied: requests in c:\\anaconda3\\lib\\site-packages (from transformers) (2.27.1)\n",
      "Requirement already satisfied: packaging>=20.0 in c:\\anaconda3\\lib\\site-packages (from transformers) (21.0)\n",
      "Requirement already satisfied: tokenizers!=0.11.3,<0.13,>=0.11.1 in c:\\anaconda3\\lib\\site-packages (from transformers) (0.11.6)\n",
      "Requirement already satisfied: tqdm>=4.27 in c:\\anaconda3\\lib\\site-packages (from transformers) (4.62.3)\n",
      "Requirement already satisfied: typing-extensions>=3.7.4.3 in c:\\anaconda3\\lib\\site-packages (from huggingface-hub<1.0,>=0.1.0->transformers) (3.10.0.2)\n",
      "Requirement already satisfied: pyparsing>=2.0.2 in c:\\anaconda3\\lib\\site-packages (from packaging>=20.0->transformers) (3.0.4)\n",
      "Requirement already satisfied: colorama in c:\\anaconda3\\lib\\site-packages (from tqdm>=4.27->transformers) (0.4.4)\n",
      "Requirement already satisfied: idna<4,>=2.5 in c:\\anaconda3\\lib\\site-packages (from requests->transformers) (3.2)\n",
      "Requirement already satisfied: certifi>=2017.4.17 in c:\\anaconda3\\lib\\site-packages (from requests->transformers) (2021.10.8)\n",
      "Requirement already satisfied: urllib3<1.27,>=1.21.1 in c:\\anaconda3\\lib\\site-packages (from requests->transformers) (1.26.7)\n",
      "Requirement already satisfied: charset-normalizer~=2.0.0 in c:\\anaconda3\\lib\\site-packages (from requests->transformers) (2.0.4)\n",
      "Requirement already satisfied: click in c:\\anaconda3\\lib\\site-packages (from sacremoses->transformers) (8.0.3)\n",
      "Requirement already satisfied: six in c:\\anaconda3\\lib\\site-packages (from sacremoses->transformers) (1.16.0)\n",
      "Requirement already satisfied: joblib in c:\\anaconda3\\lib\\site-packages (from sacremoses->transformers) (1.1.0)\n",
      "Note: you may need to restart the kernel to use updated packages.\n"
     ]
    }
   ],
   "source": [
    "pip install transformers"
   ]
  },
  {
   "cell_type": "code",
   "execution_count": 5,
   "id": "a666be42",
   "metadata": {},
   "outputs": [
    {
     "name": "stdout",
     "output_type": "stream",
     "text": [
      "Requirement already satisfied: SpeechRecognition in c:\\anaconda3\\lib\\site-packages (3.8.1)\n",
      "Note: you may need to restart the kernel to use updated packages.\n"
     ]
    }
   ],
   "source": [
    "pip install SpeechRecognition"
   ]
  },
  {
   "cell_type": "code",
   "execution_count": 6,
   "id": "103461ea",
   "metadata": {},
   "outputs": [
    {
     "ename": "SyntaxError",
     "evalue": "invalid syntax (Temp/ipykernel_1296/3297209882.py, line 2)",
     "output_type": "error",
     "traceback": [
      "\u001b[1;36m  File \u001b[1;32m\"C:\\Users\\Yuchen Li\\AppData\\Local\\Temp/ipykernel_1296/3297209882.py\"\u001b[1;36m, line \u001b[1;32m2\u001b[0m\n\u001b[1;33m    pip install PyAudio-0.2.11-cp39-cp39-win_amd64.whl\u001b[0m\n\u001b[1;37m        ^\u001b[0m\n\u001b[1;31mSyntaxError\u001b[0m\u001b[1;31m:\u001b[0m invalid syntax\n"
     ]
    }
   ],
   "source": [
    "# if the version is not correct, here is the link for the downloading appropriate one: https://www.lfd.uci.edu/~gohlke/pythonlibs/\n",
    "pip install PyAudio-0.2.11-cp39-cp39-win_amd64.whl"
   ]
  },
  {
   "cell_type": "code",
   "execution_count": 11,
   "id": "7a4d7095",
   "metadata": {},
   "outputs": [
    {
     "name": "stdout",
     "output_type": "stream",
     "text": [
      "Say something!\n",
      "Are you trying to say: \"play something from the\"?\n"
     ]
    },
    {
     "data": {
      "text/plain": [
       "'このページから何か再生します。'"
      ]
     },
     "execution_count": 11,
     "metadata": {},
     "output_type": "execute_result"
    }
   ],
   "source": [
    "import pyaudio\n",
    "import sys\n",
    "import speech_recognition as sr\n",
    "from transformers import AutoTokenizer, AutoModelForSeq2SeqLM # Machine Translation\n",
    "\n",
    "# set up souce-target language and the model\n",
    "src = \"en\" # source language\n",
    "trg = \"ja\" # target language\n",
    "\n",
    "model_name = f\"Helsinki-NLP/opus-tatoeba-{src}-{trg}\"     # en-ja model\n",
    "\n",
    "tokenizer = AutoTokenizer.from_pretrained(model_name)\n",
    "\n",
    "model = AutoModelForSeq2SeqLM.from_pretrained(model_name)\n",
    "\n",
    "r = sr.Recognizer()\n",
    "with sr.Microphone() as source:\n",
    "    print(\"Say something!\")\n",
    "    audio = r.listen(source)\n",
    "    output =r.recognize_google(audio)\n",
    "    \n",
    "print(f\"Are you trying to say: \\\"{output}\\\"?\")\n",
    "batch = tokenizer([output], return_tensors=\"pt\")\n",
    "generated_ids = model.generate(**batch)\n",
    "tokenizer.batch_decode(generated_ids, skip_special_tokens=True)[0]"
   ]
  }
 ],
 "metadata": {
  "kernelspec": {
   "display_name": "Python 3 (ipykernel)",
   "language": "python",
   "name": "python3"
  },
  "language_info": {
   "codemirror_mode": {
    "name": "ipython",
    "version": 3
   },
   "file_extension": ".py",
   "mimetype": "text/x-python",
   "name": "python",
   "nbconvert_exporter": "python",
   "pygments_lexer": "ipython3",
   "version": "3.9.7"
  }
 },
 "nbformat": 4,
 "nbformat_minor": 5
}
