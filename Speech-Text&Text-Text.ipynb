{
 "cells": [
  {
   "cell_type": "code",
   "execution_count": 64,
   "id": "c6aec5db",
   "metadata": {},
   "outputs": [
    {
     "name": "stdout",
     "output_type": "stream",
     "text": [
      "Requirement already satisfied: translators in c:\\anaconda3\\lib\\site-packages (5.0.2)\n",
      "Requirement already satisfied: PyExecJS>=1.5.1 in c:\\anaconda3\\lib\\site-packages (from translators) (1.5.1)\n",
      "Requirement already satisfied: loguru>=0.6.0 in c:\\anaconda3\\lib\\site-packages (from translators) (0.6.0)\n",
      "Requirement already satisfied: pathos>=0.2.8 in c:\\anaconda3\\lib\\site-packages (from translators) (0.2.8)\n",
      "Requirement already satisfied: lxml>=4.8.0 in c:\\anaconda3\\lib\\site-packages (from translators) (4.8.0)\n",
      "Requirement already satisfied: requests>=2.27.1 in c:\\anaconda3\\lib\\site-packages (from translators) (2.27.1)\n",
      "Requirement already satisfied: colorama>=0.3.4 in c:\\anaconda3\\lib\\site-packages (from loguru>=0.6.0->translators) (0.4.4)\n",
      "Requirement already satisfied: win32-setctime>=1.0.0 in c:\\anaconda3\\lib\\site-packages (from loguru>=0.6.0->translators) (1.1.0)\n",
      "Requirement already satisfied: ppft>=1.6.6.4 in c:\\anaconda3\\lib\\site-packages (from pathos>=0.2.8->translators) (1.6.6.4)\n",
      "Requirement already satisfied: pox>=0.3.0 in c:\\anaconda3\\lib\\site-packages (from pathos>=0.2.8->translators) (0.3.0)\n",
      "Requirement already satisfied: dill>=0.3.4 in c:\\anaconda3\\lib\\site-packages (from pathos>=0.2.8->translators) (0.3.4)\n",
      "Requirement already satisfied: multiprocess>=0.70.12 in c:\\anaconda3\\lib\\site-packages (from pathos>=0.2.8->translators) (0.70.12.2)\n",
      "Requirement already satisfied: six>=1.10.0 in c:\\anaconda3\\lib\\site-packages (from PyExecJS>=1.5.1->translators) (1.16.0)\n",
      "Requirement already satisfied: charset-normalizer~=2.0.0 in c:\\anaconda3\\lib\\site-packages (from requests>=2.27.1->translators) (2.0.4)\n",
      "Requirement already satisfied: certifi>=2017.4.17 in c:\\anaconda3\\lib\\site-packages (from requests>=2.27.1->translators) (2021.10.8)\n",
      "Requirement already satisfied: urllib3<1.27,>=1.21.1 in c:\\anaconda3\\lib\\site-packages (from requests>=2.27.1->translators) (1.26.7)\n",
      "Requirement already satisfied: idna<4,>=2.5 in c:\\anaconda3\\lib\\site-packages (from requests>=2.27.1->translators) (3.2)\n",
      "Note: you may need to restart the kernel to use updated packages.\n"
     ]
    }
   ],
   "source": [
    "pip install translators --upgrade"
   ]
  },
  {
   "cell_type": "code",
   "execution_count": 65,
   "id": "a666be42",
   "metadata": {},
   "outputs": [
    {
     "name": "stdout",
     "output_type": "stream",
     "text": [
      "Requirement already satisfied: SpeechRecognition in c:\\anaconda3\\lib\\site-packages (3.8.1)\n",
      "Note: you may need to restart the kernel to use updated packages.\n"
     ]
    }
   ],
   "source": [
    "pip install SpeechRecognition"
   ]
  },
  {
   "cell_type": "code",
   "execution_count": 1,
   "id": "1b6a8c9c",
   "metadata": {
    "scrolled": true
   },
   "outputs": [
    {
     "name": "stderr",
     "output_type": "stream",
     "text": [
      "Using United States server backend.\n"
     ]
    }
   ],
   "source": [
    "import translators as ts"
   ]
  },
  {
   "cell_type": "code",
   "execution_count": 3,
   "id": "bf298e4d",
   "metadata": {},
   "outputs": [
    {
     "name": "stdout",
     "output_type": "stream",
     "text": [
      "Ji Yan, the chicken, the chicken, the chicken. Paste chicken hunger, Ji Ji and 稷 鸡.\n",
      "{'status': 0, 'info': 'success', 'zly': 'zly', 'node': '1', 'data': {'translate': {'zly': 'zly', 'errorCode': '0', 'qc_type': '1', 'index': 'content0', 'from': 'zh-CHS', 'source': 'sogou', 'text': '季姬寂，集鸡，鸡即棘鸡。棘鸡饥叽，季姬及箕稷济鸡。', 'to': 'en', 'id': '14f20bde-ee63-4d1e-99b6-ed99273d9d88', 'dit': 'Ji Ji Ji, Ji Ji, Ji Ji, Ji Ji Ji Ji Ji Ji Ji Ji Ji Ji Ji Ji Ji Ji Ji Ji Ji Ji Ji Ji Ji Ji Ji Ji Ji Ji Ji Ji Ji Ji Ji Ji Ji Ji Ji Ji Ji Ji Ji Ji Ji Ji Ji Ji Ji Ji Ji Ji Ji Ji Ji Ji Ji Ji Ji Ji Ji Ji Ji Ji Ji Ji Ji Ji Ji Ji Ji Ji Ji Ji Ji Ji Ji Ji Ji Ji Ji Ji Ji Ji Ji Ji Ji Ji Ji Ji Ji Ji Ji Ji Ji Ji Ji Ji Ji Ji Ji Ji Ji Ji Ji Ji Ji Ji Ji Ji Ji Ji Ji Ji Ji Ji Ji Ji Ji Ji Ji Ji Ji Ji Ji Ji Ji Ji Ji Ji Ji Ji Ji Ji Ji Ji Ji Ji Ji Ji Ji Ji Ji Ji Ji Ji Ji Ji Ji Chicken is hungry, Ji Ji and Ji Ji help chicken.', 'orig_text': '季姬寂，集鸡，鸡即棘鸡。棘鸡饥叽，季姬及箕稷济鸡。', 'md5': ''}, 'detect': {'zly': 'zly', 'detect': 'zh-CHS', 'errorCode': '0', 'language': '中文', 'id': '2ac9d6c0-91bd-11ec-bf79-7b37a537caac', 'text': '季姬寂，集鸡，鸡即棘鸡。棘鸡饥叽，季姬及箕稷济鸡。'}, 'sgtkn': '4764A3E2C92A622D44419C200B44566D45777096621149FB', 'wordCard': {'title': False, 'show': False, 'usualDict': '', 'secondQuery': '', 'exchange': '', 'levelList': ''}, 'detail': '', 'book': '', 'network': '', 'pic': '', 'voice': '', 'isAutoMatch': False, 'Zh2En': True, 'sentencesData': {'uuid': '14f20bde-ee63-4d1e-99b6-ed99273d9d88', 'status': 0, 'sendback': '', 'red_mark': 0, 'trans_red_query': '', 'en_red_query': '', 'ch_red_query': '', 'qc_type': 1, 'trans_result': [{'id': 'doc4', 'model': 'title_sum', 'success': True, 'trans_text': 'Ji Ji Ji, Ji Ji, Ji Ji, Ji Ji Ji Ji Ji Ji Ji Ji Ji Ji Ji Ji Ji Ji Ji Ji Ji Ji Ji Ji Ji Ji Ji Ji Ji Ji Ji Ji Ji Ji Ji Ji Ji Ji Ji Ji Ji Ji Ji Ji Ji Ji Ji Ji Ji Ji Ji Ji Ji Ji Ji Ji Ji Ji Ji Ji Ji Ji Ji Ji Ji Ji Ji Ji Ji Ji Ji Ji Ji Ji Ji Ji Ji Ji Ji Ji Ji Ji Ji Ji Ji Ji Ji Ji Ji Ji Ji Ji Ji Ji Ji Ji Ji Ji Ji Ji Ji Ji Ji Ji Ji Ji Ji Ji Ji Ji Ji Ji Ji Ji Ji Ji Ji Ji Ji Ji Ji Ji Ji Ji Ji Ji Ji Ji Ji Ji Ji Ji Ji Ji Ji Ji Ji Ji Ji Ji Ji Ji Ji Ji Ji Ji Ji Ji Ji Chicken is hungry, Ji Ji and Ji Ji help chicken.', 'sendback': '4', 'compare_array': [{'ori_sen': '季姬寂，集鸡，鸡即棘鸡。', 'trans_sen': 'Ji Ji Ji, Ji Ji, Ji Ji, Ji Ji Ji Ji Ji Ji Ji Ji Ji Ji Ji Ji Ji Ji Ji Ji Ji Ji Ji Ji Ji Ji Ji Ji Ji Ji Ji Ji Ji Ji Ji Ji Ji Ji Ji Ji Ji Ji Ji Ji Ji Ji Ji Ji Ji Ji Ji Ji Ji Ji Ji Ji Ji Ji Ji Ji Ji Ji Ji Ji Ji Ji Ji Ji Ji Ji Ji Ji Ji Ji Ji Ji Ji Ji Ji Ji Ji Ji Ji Ji Ji Ji Ji Ji Ji Ji Ji Ji Ji Ji Ji Ji Ji Ji Ji Ji Ji Ji Ji Ji Ji Ji Ji Ji Ji Ji Ji Ji Ji Ji Ji Ji Ji Ji Ji Ji Ji Ji Ji Ji Ji Ji Ji Ji Ji Ji Ji Ji Ji Ji Ji Ji Ji Ji Ji Ji Ji Ji Ji Ji Ji Ji Ji Ji Ji '}, {'ori_sen': '棘鸡饥叽，季姬及箕稷济鸡。', 'trans_sen': 'Chicken is hungry, Ji Ji and Ji Ji help chicken. '}]}]}, 'sentences': [{'ori_sen': '季姬寂，集鸡，鸡即棘鸡。', 'trans_sen': 'Ji Ji Ji, Ji Ji, Ji Ji, Ji Ji Ji Ji Ji Ji Ji Ji Ji Ji Ji Ji Ji Ji Ji Ji Ji Ji Ji Ji Ji Ji Ji Ji Ji Ji Ji Ji Ji Ji Ji Ji Ji Ji Ji Ji Ji Ji Ji Ji Ji Ji Ji Ji Ji Ji Ji Ji Ji Ji Ji Ji Ji Ji Ji Ji Ji Ji Ji Ji Ji Ji Ji Ji Ji Ji Ji Ji Ji Ji Ji Ji Ji Ji Ji Ji Ji Ji Ji Ji Ji Ji Ji Ji Ji Ji Ji Ji Ji Ji Ji Ji Ji Ji Ji Ji Ji Ji Ji Ji Ji Ji Ji Ji Ji Ji Ji Ji Ji Ji Ji Ji Ji Ji Ji Ji Ji Ji Ji Ji Ji Ji Ji Ji Ji Ji Ji Ji Ji Ji Ji Ji Ji Ji Ji Ji Ji Ji Ji Ji Ji Ji Ji Ji Ji '}, {'ori_sen': '棘鸡饥叽，季姬及箕稷济鸡。', 'trans_sen': 'Chicken is hungry, Ji Ji and Ji Ji help chicken. '}]}}\n"
     ]
    }
   ],
   "source": [
    "wyw_text = '季姬寂，集鸡，鸡即棘鸡。棘鸡饥叽，季姬及箕稷济鸡。'\n",
    "print(ts.google(wyw_text))\n",
    "print(ts.sogou(wyw_text, is_detail_result=True))"
   ]
  },
  {
   "cell_type": "code",
   "execution_count": 76,
   "id": "0fd21ca7",
   "metadata": {},
   "outputs": [
    {
     "name": "stdout",
     "output_type": "stream",
     "text": [
      "1. she has a duck suit and greasy water all year\n",
      "\n",
      "2. his Abode which you had fixed in a Bowery or country seat at a short distance from the city just at what is now called Dutch Street soon abounded with proofs of his Ingenuity patent smokejacks that required a horse to work some dutch ovens that roasted meat without fire carts that went before the horses weather Cox that turned against the wind and other wrong-headed contrivances that astonished and confound it all beholders\n",
      "\n",
      "3. the b**** canoe slit on the smooth planks to the dark blue background it's easy to tell her that well for hours of steady work fastest\n",
      "\n"
     ]
    }
   ],
   "source": [
    "import speech_recognition as sr\n",
    "from os import path\n",
    "import os\n",
    "\n",
    "#get the file dir\n",
    "def get_file(dir_name):\n",
    "    AUDIO_FILE = path.realpath(dir_name)\n",
    "    entries = os.listdir(dir_name)\n",
    "    full_path = []\n",
    "    for i in entries:\n",
    "        full_path.append(AUDIO_FILE + \"\\\\\" + i)\n",
    "\n",
    "get_file(\"audio_file\")\n",
    "        \n",
    "i = 1    \n",
    "for file in full_path:\n",
    "    r = sr.Recognizer()\n",
    "    with sr.AudioFile(file) as source:\n",
    "        audio = r.record(source)\n",
    "    try:\n",
    "        print(f\"{i}. \" + r.recognize_google(audio) + \"\\n\")\n",
    "    except sr.UnknownValueError:\n",
    "        print(\"Google Speech Recognition could not understand audio\")\n",
    "    except sr.RequestError as e:\n",
    "        print(\"Could not request results from Google Speech Recognition service; {0}\".format(e))\n",
    "    i+=1\n"
   ]
  },
  {
   "cell_type": "code",
   "execution_count": 2,
   "id": "f7628925",
   "metadata": {},
   "outputs": [
    {
     "name": "stdout",
     "output_type": "stream",
     "text": [
      "Collecting argostranslate\n",
      "  Downloading argostranslate-1.6.1-py3-none-any.whl (27 kB)\n",
      "Collecting stanza==1.1.1\n",
      "  Downloading stanza-1.1.1-py3-none-any.whl (227 kB)\n",
      "     -------------------------------------- 227.6/227.6 KB 4.6 MB/s eta 0:00:00\n",
      "Collecting ctranslate2==2.10.1\n",
      "  Downloading ctranslate2-2.10.1-cp39-cp39-win_amd64.whl (10.6 MB)\n",
      "     --------------------------------------- 10.6/10.6 MB 14.9 MB/s eta 0:00:00\n",
      "Collecting sentencepiece==0.1.96\n",
      "  Downloading sentencepiece-0.1.96-cp39-cp39-win_amd64.whl (1.1 MB)\n",
      "     ---------------------------------------- 1.1/1.1 MB 17.2 MB/s eta 0:00:00\n",
      "Requirement already satisfied: numpy in c:\\anaconda3\\lib\\site-packages (from ctranslate2==2.10.1->argostranslate) (1.19.5)\n",
      "Requirement already satisfied: requests in c:\\anaconda3\\lib\\site-packages (from stanza==1.1.1->argostranslate) (2.27.1)\n",
      "Collecting protobuf\n",
      "  Using cached protobuf-3.19.4-cp39-cp39-win_amd64.whl (895 kB)\n",
      "Requirement already satisfied: tqdm in c:\\anaconda3\\lib\\site-packages (from stanza==1.1.1->argostranslate) (4.62.3)\n",
      "Requirement already satisfied: torch>=1.3.0 in c:\\anaconda3\\lib\\site-packages (from stanza==1.1.1->argostranslate) (1.9.0)\n",
      "Requirement already satisfied: typing-extensions in c:\\anaconda3\\lib\\site-packages (from torch>=1.3.0->stanza==1.1.1->argostranslate) (3.10.0.2)\n",
      "Requirement already satisfied: urllib3<1.27,>=1.21.1 in c:\\anaconda3\\lib\\site-packages (from requests->stanza==1.1.1->argostranslate) (1.26.7)\n",
      "Requirement already satisfied: certifi>=2017.4.17 in c:\\anaconda3\\lib\\site-packages (from requests->stanza==1.1.1->argostranslate) (2021.10.8)\n",
      "Requirement already satisfied: idna<4,>=2.5 in c:\\anaconda3\\lib\\site-packages (from requests->stanza==1.1.1->argostranslate) (3.2)\n",
      "Requirement already satisfied: charset-normalizer~=2.0.0 in c:\\anaconda3\\lib\\site-packages (from requests->stanza==1.1.1->argostranslate) (2.0.4)\n",
      "Requirement already satisfied: colorama in c:\\anaconda3\\lib\\site-packages (from tqdm->stanza==1.1.1->argostranslate) (0.4.4)\n",
      "Installing collected packages: sentencepiece, protobuf, ctranslate2, stanza, argostranslate\n",
      "Successfully installed argostranslate-1.6.1 ctranslate2-2.10.1 protobuf-3.19.4 sentencepiece-0.1.96 stanza-1.1.1\n",
      "Note: you may need to restart the kernel to use updated packages.\n"
     ]
    }
   ],
   "source": [
    "pip install argostranslate"
   ]
  },
  {
   "cell_type": "code",
   "execution_count": 9,
   "id": "1580e586",
   "metadata": {},
   "outputs": [
    {
     "ename": "Exception",
     "evalue": "Not a valid Argos Model (must be a zip archive)",
     "output_type": "error",
     "traceback": [
      "\u001b[1;31m---------------------------------------------------------------------------\u001b[0m",
      "\u001b[1;31mException\u001b[0m                                 Traceback (most recent call last)",
      "\u001b[1;32m~\\AppData\\Local\\Temp/ipykernel_23892/4218735386.py\u001b[0m in \u001b[0;36m<module>\u001b[1;34m\u001b[0m\n\u001b[0;32m      1\u001b[0m \u001b[1;32mfrom\u001b[0m \u001b[0margostranslate\u001b[0m \u001b[1;32mimport\u001b[0m \u001b[0mpackage\u001b[0m\u001b[1;33m,\u001b[0m \u001b[0mtranslate\u001b[0m\u001b[1;33m\u001b[0m\u001b[1;33m\u001b[0m\u001b[0m\n\u001b[0;32m      2\u001b[0m \u001b[1;32mfrom\u001b[0m \u001b[0margostranslate\u001b[0m \u001b[1;32mimport\u001b[0m \u001b[0mpackage\u001b[0m\u001b[1;33m\u001b[0m\u001b[1;33m\u001b[0m\u001b[0m\n\u001b[1;32m----> 3\u001b[1;33m \u001b[0mpackage\u001b[0m\u001b[1;33m.\u001b[0m\u001b[0minstall_from_path\u001b[0m\u001b[1;33m(\u001b[0m\u001b[1;34m'translate-ru_en-1_0.argosmodel'\u001b[0m\u001b[1;33m)\u001b[0m\u001b[1;33m\u001b[0m\u001b[1;33m\u001b[0m\u001b[0m\n\u001b[0m\u001b[0;32m      4\u001b[0m \u001b[1;33m\u001b[0m\u001b[0m\n\u001b[0;32m      5\u001b[0m \u001b[1;32mdef\u001b[0m \u001b[0mget_argos_model\u001b[0m\u001b[1;33m(\u001b[0m\u001b[0msource\u001b[0m\u001b[1;33m,\u001b[0m \u001b[0mtarget\u001b[0m\u001b[1;33m)\u001b[0m\u001b[1;33m:\u001b[0m\u001b[1;33m\u001b[0m\u001b[1;33m\u001b[0m\u001b[0m\n",
      "\u001b[1;32mC:\\Anaconda3\\lib\\site-packages\\argostranslate\\package.py\u001b[0m in \u001b[0;36minstall_from_path\u001b[1;34m(path)\u001b[0m\n\u001b[0;32m    214\u001b[0m     \u001b[1;32mwith\u001b[0m \u001b[0mpackage_lock\u001b[0m\u001b[1;33m:\u001b[0m\u001b[1;33m\u001b[0m\u001b[1;33m\u001b[0m\u001b[0m\n\u001b[0;32m    215\u001b[0m         \u001b[1;32mif\u001b[0m \u001b[1;32mnot\u001b[0m \u001b[0mzipfile\u001b[0m\u001b[1;33m.\u001b[0m\u001b[0mis_zipfile\u001b[0m\u001b[1;33m(\u001b[0m\u001b[0mpath\u001b[0m\u001b[1;33m)\u001b[0m\u001b[1;33m:\u001b[0m\u001b[1;33m\u001b[0m\u001b[1;33m\u001b[0m\u001b[0m\n\u001b[1;32m--> 216\u001b[1;33m             \u001b[1;32mraise\u001b[0m \u001b[0mException\u001b[0m\u001b[1;33m(\u001b[0m\u001b[1;34m\"Not a valid Argos Model (must be a zip archive)\"\u001b[0m\u001b[1;33m)\u001b[0m\u001b[1;33m\u001b[0m\u001b[1;33m\u001b[0m\u001b[0m\n\u001b[0m\u001b[0;32m    217\u001b[0m         \u001b[1;32mwith\u001b[0m \u001b[0mzipfile\u001b[0m\u001b[1;33m.\u001b[0m\u001b[0mZipFile\u001b[0m\u001b[1;33m(\u001b[0m\u001b[0mpath\u001b[0m\u001b[1;33m,\u001b[0m \u001b[1;34m\"r\"\u001b[0m\u001b[1;33m)\u001b[0m \u001b[1;32mas\u001b[0m \u001b[0mzip\u001b[0m\u001b[1;33m:\u001b[0m\u001b[1;33m\u001b[0m\u001b[1;33m\u001b[0m\u001b[0m\n\u001b[0;32m    218\u001b[0m             \u001b[0mzip\u001b[0m\u001b[1;33m.\u001b[0m\u001b[0mextractall\u001b[0m\u001b[1;33m(\u001b[0m\u001b[0mpath\u001b[0m\u001b[1;33m=\u001b[0m\u001b[0msettings\u001b[0m\u001b[1;33m.\u001b[0m\u001b[0mpackage_data_dir\u001b[0m\u001b[1;33m)\u001b[0m\u001b[1;33m\u001b[0m\u001b[1;33m\u001b[0m\u001b[0m\n",
      "\u001b[1;31mException\u001b[0m: Not a valid Argos Model (must be a zip archive)"
     ]
    }
   ],
   "source": [
    "from argostranslate import package, translate\n",
    "from argostranslate import package\n",
    "package.install_from_path('translate-ru_en-1_0.argosmodel')\n",
    "\n",
    "def get_argos_model(source, target):\n",
    "    lang = f'{source} -> {target}'\n",
    "    source_lang = [model for model in translate.get_installed_languages() if lang in map(repr, model.translations_from)]\n",
    "    target_lang = [model for model in translate.get_installed_languages() if lang in map(repr, model.translations_to)]\n",
    "    \n",
    "    return source_lang[0].get_translation(target_lang[0])\n",
    "\n",
    "argos_ru_en = get_argos_model('Chinese', 'English')"
   ]
  }
 ],
 "metadata": {
  "kernelspec": {
   "display_name": "Python 3 (ipykernel)",
   "language": "python",
   "name": "python3"
  },
  "language_info": {
   "codemirror_mode": {
    "name": "ipython",
    "version": 3
   },
   "file_extension": ".py",
   "mimetype": "text/x-python",
   "name": "python",
   "nbconvert_exporter": "python",
   "pygments_lexer": "ipython3",
   "version": "3.9.7"
  }
 },
 "nbformat": 4,
 "nbformat_minor": 5
}
